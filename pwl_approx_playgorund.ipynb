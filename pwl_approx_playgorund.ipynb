{
 "cells": [
  {
   "cell_type": "markdown",
   "metadata": {},
   "source": [
    "# Experiment: Piecewise-linear approximation of VNF-PPs (Playground)\n",
    "\n",
    "Try to represent VNF-PPs as piece-wise linear functions.\n",
    "The fitting is done using the [pwlf Python library](https://pypi.org/project/pwlf/).\n",
    "\n",
    "Cite PWLF:\n",
    "\n",
    "```latex\n",
    "@Manual{pwlf,\n",
    "    author = {Jekel, Charles F. and Venter, Gerhard},\n",
    "    title = {{pwlf:} A Python Library for Fitting 1D Continuous Piecewise Linear Functions},\n",
    "    year = {2019},\n",
    "    url = {https://github.com/cjekel/piecewise_linear_fit_py}\n",
    "}\n",
    "```\n"
   ]
  },
  {
   "cell_type": "code",
   "execution_count": 41,
   "metadata": {},
   "outputs": [],
   "source": [
    "# basics\n",
    "%matplotlib inline\n",
    "import matplotlib.pyplot as plt\n",
    "import pandas as pd\n",
    "import seaborn as sns\n",
    "import matplotlib\n",
    "import numpy as np\n",
    "import pwlf"
   ]
  },
  {
   "cell_type": "markdown",
   "metadata": {},
   "source": [
    "## Data Management\n",
    "Load and clean the data sets to be easily used."
   ]
  },
  {
   "cell_type": "markdown",
   "metadata": {},
   "source": [
    "### Load data sets"
   ]
  },
  {
   "cell_type": "code",
   "execution_count": 42,
   "metadata": {},
   "outputs": [
    {
     "data": {
      "text/html": [
       "<div>\n",
       "<style scoped>\n",
       "    .dataframe tbody tr th:only-of-type {\n",
       "        vertical-align: middle;\n",
       "    }\n",
       "\n",
       "    .dataframe tbody tr th {\n",
       "        vertical-align: top;\n",
       "    }\n",
       "\n",
       "    .dataframe thead th {\n",
       "        text-align: right;\n",
       "    }\n",
       "</style>\n",
       "<table border=\"1\" class=\"dataframe\">\n",
       "  <thead>\n",
       "    <tr style=\"text-align: right;\">\n",
       "      <th></th>\n",
       "      <th>flow_size</th>\n",
       "      <th>ruleset</th>\n",
       "      <th>cpu_bw</th>\n",
       "      <th>memory</th>\n",
       "      <th>ids_bytes</th>\n",
       "      <th>ids_pkts</th>\n",
       "      <th>ids_drop</th>\n",
       "      <th>if_rx_bytes</th>\n",
       "    </tr>\n",
       "  </thead>\n",
       "  <tbody>\n",
       "    <tr>\n",
       "      <th>0</th>\n",
       "      <td>0</td>\n",
       "      <td>1</td>\n",
       "      <td>0.1</td>\n",
       "      <td>256</td>\n",
       "      <td>23300110.0</td>\n",
       "      <td>41300.0</td>\n",
       "      <td>708299.0</td>\n",
       "      <td>2.195881e+10</td>\n",
       "    </tr>\n",
       "    <tr>\n",
       "      <th>1</th>\n",
       "      <td>0</td>\n",
       "      <td>1</td>\n",
       "      <td>0.1</td>\n",
       "      <td>256</td>\n",
       "      <td>27921373.5</td>\n",
       "      <td>47600.0</td>\n",
       "      <td>707497.5</td>\n",
       "      <td>2.193566e+10</td>\n",
       "    </tr>\n",
       "    <tr>\n",
       "      <th>2</th>\n",
       "      <td>0</td>\n",
       "      <td>1</td>\n",
       "      <td>0.1</td>\n",
       "      <td>256</td>\n",
       "      <td>23931763.0</td>\n",
       "      <td>41370.0</td>\n",
       "      <td>712914.0</td>\n",
       "      <td>2.172597e+10</td>\n",
       "    </tr>\n",
       "    <tr>\n",
       "      <th>3</th>\n",
       "      <td>0</td>\n",
       "      <td>1</td>\n",
       "      <td>0.1</td>\n",
       "      <td>256</td>\n",
       "      <td>26639147.0</td>\n",
       "      <td>45220.0</td>\n",
       "      <td>704784.0</td>\n",
       "      <td>2.159297e+10</td>\n",
       "    </tr>\n",
       "    <tr>\n",
       "      <th>4</th>\n",
       "      <td>0</td>\n",
       "      <td>1</td>\n",
       "      <td>0.1</td>\n",
       "      <td>256</td>\n",
       "      <td>23087775.0</td>\n",
       "      <td>40460.0</td>\n",
       "      <td>708648.0</td>\n",
       "      <td>2.155866e+10</td>\n",
       "    </tr>\n",
       "  </tbody>\n",
       "</table>\n",
       "</div>"
      ],
      "text/plain": [
       "   flow_size  ruleset  cpu_bw  memory   ids_bytes  ids_pkts  ids_drop  \\\n",
       "0          0        1     0.1     256  23300110.0   41300.0  708299.0   \n",
       "1          0        1     0.1     256  27921373.5   47600.0  707497.5   \n",
       "2          0        1     0.1     256  23931763.0   41370.0  712914.0   \n",
       "3          0        1     0.1     256  26639147.0   45220.0  704784.0   \n",
       "4          0        1     0.1     256  23087775.0   40460.0  708648.0   \n",
       "\n",
       "    if_rx_bytes  \n",
       "0  2.195881e+10  \n",
       "1  2.193566e+10  \n",
       "2  2.172597e+10  \n",
       "3  2.159297e+10  \n",
       "4  2.155866e+10  "
      ]
     },
     "execution_count": 42,
     "metadata": {},
     "output_type": "execute_result"
    }
   ],
   "source": [
    "def select_and_rename(df, mapping):\n",
    "    \"\"\"\n",
    "    Helper: Selects columns of df using the keys\n",
    "    of the mapping dict.\n",
    "    It renames the columns to the values of the\n",
    "    mappings dict.\n",
    "    \"\"\"\n",
    "    # select subset of columns\n",
    "    dff = df[list(mapping.keys())]\n",
    "    # rename \n",
    "    for k, v in mapping.items():\n",
    "        #print(\"Renaming: {} -> {}\".format(k, v))\n",
    "        dff.rename(columns={k: v}, inplace=True)\n",
    "    #print(dff.head())\n",
    "    return dff\n",
    "\n",
    "def cleanup(df):\n",
    "    \"\"\"\n",
    "    Cleanup of df data.\n",
    "    Dataset specific.\n",
    "    \"\"\"\n",
    "    def _replace(df, column, str1, str2):\n",
    "        if column in df:\n",
    "            df[column] = df[column].str.replace(str1, str2)\n",
    "            \n",
    "    def _to_num(df, column):\n",
    "        if column in df:\n",
    "            df[column] = pd.to_numeric(df[column])\n",
    "        \n",
    "    _replace(df, \"flow_size\", \"tcpreplay -i data -tK --loop 40000 --preload-pcap /pcaps/smallFlows.pcap\", \"0\")   \n",
    "    _replace(df, \"flow_size\", \"tcpreplay -i data -tK --loop 40000 --preload-pcap /pcaps/bigFlows.pcap\", \"1\")\n",
    "    _to_num(df, \"flow_size\")\n",
    "    _replace(df, \"ruleset\", \"./start.sh small_ruleset\", \"1\")\n",
    "    _replace(df, \"ruleset\", \"./start.sh big_ruleset\", \"2\")\n",
    "    _replace(df, \"ruleset\", \"./start.sh\", \"0\")\n",
    "    _to_num(df, \"ruleset\")\n",
    "    _replace(df, \"req_size\", \"ab -c 1 -t 60 -n 99999999 -e /tngbench_share/ab_dist.csv -s 60 -k -i http://20.0.0.254:8888/\", \"0\")\n",
    "    _replace(df, \"req_size\", \"ab -c 1 -t 60 -n 99999999 -e /tngbench_share/ab_dist.csv -s 60 -k http://20.0.0.254:8888/bunny.mp4\", \"1\")\n",
    "    _replace(df, \"req_size\", \"ab -c 1 -t 60 -n 99999999 -e /tngbench_share/ab_dist.csv -s 60 -k -i -X 20.0.0.254:3128 http://40.0.0.254:80/\", \"0\")\n",
    "    _replace(df, \"req_size\", \"ab -c 1 -t 60 -n 99999999 -e /tngbench_share/ab_dist.csv -s 60 -k -X 20.0.0.254:3128 http://40.0.0.254:80/bunny.mp4\", \"1\")\n",
    "    _to_num(df, \"req_size\")\n",
    "    _replace(df, \"req_type\", \"malaria publish -t -n 20000 -H 20.0.0.254 -q 1 --json /tngbench_share/malaria.json\", \"0\")\n",
    "    _replace(df, \"req_type\", \"malaria publish -t -n 20000 -H 20.0.0.254 -q 2 --json /tngbench_share/malaria.json\", \"1\")\n",
    "    _replace(df, \"req_type\", \"malaria publish -s 10 -n 20000 -H 20.0.0.254 --json /tngbench_share/malaria.json\", \"2\")\n",
    "    _replace(df, \"req_type\", \"malaria publish -s 10000 -n 20000 -H 20.0.0.254 --json /tngbench_share/malaria.json\", \"3\")\n",
    "    _to_num(df, \"req_type\")\n",
    "    \n",
    "df_sec01 = pd.read_csv(\"/home/manuel/sndzoo/ds_nfv_sec01/data/csv_experiments.csv\")\n",
    "df_sec02 = pd.read_csv(\"/home/manuel/sndzoo/ds_nfv_sec02/data/csv_experiments.csv\")\n",
    "df_sec03 = pd.read_csv(\"/home/manuel/sndzoo/ds_nfv_sec03/data/csv_experiments.csv\")\n",
    "df_web01 = pd.read_csv(\"/home/manuel/sndzoo/ds_nfv_web01/data/csv_experiments.csv\")\n",
    "df_web02 = pd.read_csv(\"/home/manuel/sndzoo/ds_nfv_web02/data/csv_experiments.csv\")\n",
    "df_web03 = pd.read_csv(\"/home/manuel/sndzoo/ds_nfv_web03/data/csv_experiments.csv\")\n",
    "df_iot01 = pd.read_csv(\"/home/manuel/sndzoo/ds_nfv_iot01/data/csv_experiments.csv\")\n",
    "df_iot02 = pd.read_csv(\"/home/manuel/sndzoo/ds_nfv_iot02/data/csv_experiments.csv\")\n",
    "\n",
    "# do renaming and selection\n",
    "map_sec01 = {\n",
    "    \"param__func__mp.input__cmd_start\": \"flow_size\",\n",
    "    \"param__func__de.upb.ids-suricata.0.1__cmd_start\": \"ruleset\",\n",
    "    \"param__func__de.upb.ids-suricata.0.1__cpu_bw\": \"cpu_bw\",\n",
    "    \"param__func__de.upb.ids-suricata.0.1__mem_max\": \"memory\",\n",
    "    \"metric__vnf0.vdu01.0__suricata_bytes\": \"ids_bytes\",\n",
    "    \"metric__vnf0.vdu01.0__suricata_packets\": \"ids_pkts\",\n",
    "    \"metric__vnf0.vdu01.0__suricata_dropped\": \"ids_drop\",\n",
    "    #\"metric__vnf0.vdu01.0__suricata_drops\": \"ids_drops\",\n",
    "    \"metric__vnf0.vdu01.0__stat__input__rx_bytes\": \"if_rx_bytes\",\n",
    "    #\"metric__vnf0.vdu01.0__stat__input__rx_dropped\": \"if_in_rx_dropped\",\n",
    "    #\"metric__vnf0.vdu01.0__stat__input__rx_errors\": \"if_in_rx_errors\",\n",
    "    #\"metric__vnf0.vdu01.0__stat__input__rx_packets\": \"if_in_rx_packets\",\n",
    "    #\"metric__vnf0.vdu01.0__stat__input__tx_bytes\": \"if_in_tx_byte\",\n",
    "    #\"metric__vnf0.vdu01.0__stat__input__tx_dropped\": \"if_in_tx_dropped\",\n",
    "    #\"metric__vnf0.vdu01.0__stat__input__tx_errors\": \"if_in_tx_errors\",\n",
    "    #\"metric__vnf0.vdu01.0__stat__input__tx_packets\": \"if_in_tx_packets\",\n",
    "}\n",
    "\n",
    "map_sec02 = {\n",
    "    \"param__func__mp.input__cmd_start\": \"flow_size\",\n",
    "    \"param__func__de.upb.ids-snort2.0.1__cmd_start\": \"ruleset\",\n",
    "    \"param__func__de.upb.ids-snort2.0.1__cpu_bw\": \"cpu_bw\",\n",
    "    \"param__func__de.upb.ids-snort2.0.1__mem_max\": \"memory\",\n",
    "    \"metric__vnf0.vdu01.0__snort_bytes\": \"ids_bytes\",\n",
    "    \"metric__vnf0.vdu01.0__snort_packets\": \"ids_pkts\",\n",
    "    \"metric__vnf0.vdu01.0__snort_dropped\": \"ids_drop\",\n",
    "    #\"metric__vnf0.vdu01.0__snort_drops\": \"ids_drops\",\n",
    "    \"metric__vnf0.vdu01.0__stat__input__rx_bytes\": \"if_rx_bytes\",\n",
    "    #\"metric__vnf0.vdu01.0__stat__input__rx_dropped\": \"if_in_rx_dropped\",\n",
    "    #\"metric__vnf0.vdu01.0__stat__input__rx_errors\": \"if_in_rx_errors\",\n",
    "    #\"metric__vnf0.vdu01.0__stat__input__rx_packets\": \"if_in_rx_packets\",\n",
    "    #\"metric__vnf0.vdu01.0__stat__input__tx_bytes\": \"if_in_tx_byte\",\n",
    "    #\"metric__vnf0.vdu01.0__stat__input__tx_dropped\": \"if_in_tx_dropped\",\n",
    "    #\"metric__vnf0.vdu01.0__stat__input__tx_errors\": \"if_in_tx_errors\",\n",
    "    #\"metric__vnf0.vdu01.0__stat__input__tx_packets\": \"if_in_tx_packets\",\n",
    "}\n",
    "\n",
    "map_sec03 = {\n",
    "    \"param__func__mp.input__cmd_start\": \"flow_size\",\n",
    "    \"param__func__de.upb.ids-snort3.0.1__cmd_start\": \"ruleset\",\n",
    "    \"param__func__de.upb.ids-snort3.0.1__cpu_bw\": \"cpu_bw\",\n",
    "    \"param__func__de.upb.ids-snort3.0.1__mem_max\": \"memory\",\n",
    "    #\"metric__vnf0.vdu01.0__snort3_total_allow\": \"ids_allow\",\n",
    "    \"metric__vnf0.vdu01.0__snort3_total_analyzed\": \"ids_pkts\",\n",
    "    \"metric__vnf0.vdu01.0__snort3_total_received\": \"ids_recv\",\n",
    "    #\"metric__vnf0.vdu01.0__snort3_total_outstanding\": \"ids_outstanding\",\n",
    "    \"metric__vnf0.vdu01.0__snort3_total_dropped\": \"ids_drop\",\n",
    "    \"metric__vnf0.vdu01.0__stat__input__rx_bytes\": \"if_rx_bytes\",\n",
    "    #\"metric__vnf0.vdu01.0__stat__input__rx_dropped\": \"if_in_rx_dropped\",\n",
    "    #\"metric__vnf0.vdu01.0__stat__input__rx_errors\": \"if_in_rx_errors\",\n",
    "    #\"metric__vnf0.vdu01.0__stat__input__rx_packets\": \"if_in_rx_packets\",\n",
    "    #\"metric__vnf0.vdu01.0__stat__input__tx_bytes\": \"if_in_tx_byte\",\n",
    "    #\"metric__vnf0.vdu01.0__stat__input__tx_dropped\": \"if_in_tx_dropped\",\n",
    "    #\"metric__vnf0.vdu01.0__stat__input__tx_errors\": \"if_in_tx_errors\",\n",
    "    #\"metric__vnf0.vdu01.0__stat__input__tx_packets\": \"if_in_tx_packets\",\n",
    "}\n",
    "\n",
    "map_web01 = {\n",
    "    \"param__func__mp.input__cmd_start\": \"req_size\",\n",
    "    \"param__func__de.upb.lb-nginx.0.1__cpu_bw\": \"cpu_bw\",\n",
    "    \"param__func__de.upb.lb-nginx.0.1__mem_max\": \"memory\",\n",
    "    \"metric__mp.input.vdu01.0__ab_completed_requests\": \"req_compl\",\n",
    "    #\"metric__mp.input.vdu01.0__ab_concurrent_lvl\": \"req_concurrent\",\n",
    "    #\"metric__mp.input.vdu01.0__ab_failed_requests\": \"req_failed\",\n",
    "    #\"metric__mp.input.vdu01.0__ab_html_transfer_byte\": \"req_html_bytes\",\n",
    "    #\"metric__mp.input.vdu01.0__ab_mean_time_per_request\": \"req_time_mean\",\n",
    "    \"metric__mp.input.vdu01.0__ab_request_per_second\": \"req_per_sec\",\n",
    "    #\"metric__mp.input.vdu01.0__ab_time_used_s\": \"req_time_used\",\n",
    "    \"metric__mp.input.vdu01.0__ab_total_transfer_byte\": \"transf_bytes\",\n",
    "    #\"metric__mp.input.vdu01.0__ab_transfer_rate_kbyte_per_second\": \"req_transf_rate\",\n",
    "    \"metric__vnf0.vdu01.0__stat__input__rx_bytes\": \"if_rx_bytes\",\n",
    "    #\"metric__vnf0.vdu01.0__stat__input__rx_dropped\": \"if_in_rx_dropped\",\n",
    "    #\"metric__vnf0.vdu01.0__stat__input__rx_errors\": \"if_in_rx_errors\",\n",
    "    #\"metric__vnf0.vdu01.0__stat__input__rx_packets\": \"if_in_rx_packets\",\n",
    "    \"metric__vnf0.vdu01.0__stat__input__tx_bytes\": \"if_tx_bytes\",\n",
    "    #\"metric__vnf0.vdu01.0__stat__input__tx_dropped\": \"if_in_tx_dropped\",\n",
    "    #\"metric__vnf0.vdu01.0__stat__input__tx_errors\": \"if_in_tx_errors\",\n",
    "    #\"metric__vnf0.vdu01.0__stat__input__tx_packets\": \"if_in_tx_packets\",\n",
    "}\n",
    "\n",
    "map_web02 = {\n",
    "    \"param__func__mp.input__cmd_start\": \"req_size\",\n",
    "    \"param__func__de.upb.lb-haproxy.0.1__cpu_bw\": \"cpu_bw\",\n",
    "    \"param__func__de.upb.lb-haproxy.0.1__mem_max\": \"memory\",\n",
    "    \"metric__mp.input.vdu01.0__ab_completed_requests\": \"req_compl\",\n",
    "    #\"metric__mp.input.vdu01.0__ab_concurrent_lvl\": \"req_concurrent\",\n",
    "    #\"metric__mp.input.vdu01.0__ab_failed_requests\": \"req_failed\",\n",
    "    #\"metric__mp.input.vdu01.0__ab_html_transfer_byte\": \"req_html_bytes\",\n",
    "    #\"metric__mp.input.vdu01.0__ab_mean_time_per_request\": \"req_time_mean\",\n",
    "    \"metric__mp.input.vdu01.0__ab_request_per_second\": \"req_per_sec\",\n",
    "    #\"metric__mp.input.vdu01.0__ab_time_used_s\": \"req_time_used\",\n",
    "    \"metric__mp.input.vdu01.0__ab_total_transfer_byte\": \"transf_bytes\",\n",
    "    #\"metric__mp.input.vdu01.0__ab_transfer_rate_kbyte_per_second\": \"req_transf_rate\",\n",
    "    \"metric__vnf0.vdu01.0__stat__input__rx_bytes\": \"if_rx_bytes\",\n",
    "    #\"metric__vnf0.vdu01.0__stat__input__rx_dropped\": \"if_in_rx_dropped\",\n",
    "    #\"metric__vnf0.vdu01.0__stat__input__rx_errors\": \"if_in_rx_errors\",\n",
    "    #\"metric__vnf0.vdu01.0__stat__input__rx_packets\": \"if_in_rx_packets\",\n",
    "    \"metric__vnf0.vdu01.0__stat__input__tx_bytes\": \"if_tx_bytes\",\n",
    "    #\"metric__vnf0.vdu01.0__stat__input__tx_dropped\": \"if_in_tx_dropped\",\n",
    "    #\"metric__vnf0.vdu01.0__stat__input__tx_errors\": \"if_in_tx_errors\",\n",
    "    #\"metric__vnf0.vdu01.0__stat__input__tx_packets\": \"if_in_tx_packets\",\n",
    "}\n",
    "\n",
    "map_web03 = {\n",
    "    \"param__func__mp.input__cmd_start\": \"req_size\",\n",
    "    \"param__func__de.upb.px-squid.0.1__cpu_bw\": \"cpu_bw\",\n",
    "    \"param__func__de.upb.px-squid.0.1__mem_max\": \"memory\",\n",
    "    \"metric__mp.input.vdu01.0__ab_completed_requests\": \"req_compl\",\n",
    "    #\"metric__mp.input.vdu01.0__ab_concurrent_lvl\": \"req_concurrent\",\n",
    "    #\"metric__mp.input.vdu01.0__ab_failed_requests\": \"req_failed\",\n",
    "    #\"metric__mp.input.vdu01.0__ab_html_transfer_byte\": \"req_html_bytes\",\n",
    "    #\"metric__mp.input.vdu01.0__ab_mean_time_per_request\": \"req_time_mean\",\n",
    "    \"metric__mp.input.vdu01.0__ab_request_per_second\": \"req_per_sec\",\n",
    "    #\"metric__mp.input.vdu01.0__ab_time_used_s\": \"req_time_used\",\n",
    "    \"metric__mp.input.vdu01.0__ab_total_transfer_byte\": \"transf_bytes\",\n",
    "    #\"metric__mp.input.vdu01.0__ab_transfer_rate_kbyte_per_second\": \"req_transf_rate\",\n",
    "    \"metric__vnf0.vdu01.0__stat__input__rx_bytes\": \"if_rx_bytes\",\n",
    "    #\"metric__vnf0.vdu01.0__stat__input__rx_dropped\": \"if_in_rx_dropped\",\n",
    "    #\"metric__vnf0.vdu01.0__stat__input__rx_errors\": \"if_in_rx_errors\",\n",
    "    #\"metric__vnf0.vdu01.0__stat__input__rx_packets\": \"if_in_rx_packets\",\n",
    "    \"metric__vnf0.vdu01.0__stat__input__tx_bytes\": \"if_tx_bytes\",\n",
    "    #\"metric__vnf0.vdu01.0__stat__input__tx_dropped\": \"if_in_tx_dropped\",\n",
    "    #\"metric__vnf0.vdu01.0__stat__input__tx_errors\": \"if_in_tx_errors\",\n",
    "    #\"metric__vnf0.vdu01.0__stat__input__tx_packets\": \"if_in_tx_packets\",\n",
    "}\n",
    "\n",
    "map_iot01 = {\n",
    "    \"param__func__mp.input__cmd_start\": \"req_type\",\n",
    "    \"param__func__de.upb.broker-mosquitto.0.1__cpu_bw\": \"cpu_bw\",\n",
    "    \"param__func__de.upb.broker-mosquitto.0.1__mem_max\": \"memory\",\n",
    "    #\"metric__mp.input.vdu01.0__malaria_clientid\": \"mal_id\",\n",
    "    #\"metric__mp.input.vdu01.0__malaria_count_ok\": \"mal_count_ok\",\n",
    "    #\"metric__mp.input.vdu01.0__malaria_count_total\": \"mal_count_total\",\n",
    "    \"metric__mp.input.vdu01.0__malaria_msgs_per_sec\": \"msg_per_sec\",\n",
    "    #\"metric__mp.input.vdu01.0__malaria_rate_ok\": \"mal_rate_ok\",\n",
    "    #\"metric__mp.input.vdu01.0__malaria_time_max\": \"mal_time_max\",\n",
    "    \"metric__mp.input.vdu01.0__malaria_time_mean\": \"msg_t_mean\",\n",
    "    #\"metric__mp.input.vdu01.0__malaria_time_min\": \"mal_time_min\",\n",
    "    \"metric__mp.input.vdu01.0__malaria_time_stddev\": \"msg_t_std\",\n",
    "    #\"metric__mp.input.vdu01.0__malaria_time_total\": \"mal_time_total\",\n",
    "    #\"metric__mp.output.vdu01.0__malaria_client_count\": \"mal_ccount\",\n",
    "    #\"metric__mp.output.vdu01.0__malaria_clientid\": \"mal_cid2\",\n",
    "    #\"metric__mp.output.vdu01.0__malaria_flight_time_max\": \"mal_ft_max\",\n",
    "    #\"metric__mp.output.vdu01.0__malaria_flight_time_mean\": \"mal_ft_mean\",\n",
    "    #\"metric__mp.output.vdu01.0__malaria_flight_time_min\": \"mal_ft_min\",\n",
    "    #\"metric__mp.output.vdu01.0__malaria_flight_time_stddev\": \"mal_ft_stddev\",\n",
    "    #\"metric__mp.output.vdu01.0__malaria_ms_per_msg\": \"mal_ms_per_msg\",\n",
    "    #\"metric__mp.output.vdu01.0__malaria_msg_count\": \"mal_out_msg_count\",\n",
    "    #\"metric__mp.output.vdu01.0__malaria_msg_duplicates\": \"mal_out_msg_dup\",\n",
    "    #\"metric__mp.output.vdu01.0__malaria_msg_per_sec\": \"mal_out_msgs_per_sec\",\n",
    "    #\"metric__mp.output.vdu01.0__malaria_test_complete\": \"mal_test_complete\",\n",
    "    #\"metric__mp.output.vdu01.0__malaria_time_total\": \"mal_out_t_total\",\n",
    "    \"metric__vnf0.vdu01.0__stat__input__rx_bytes\": \"if_rx_bytes\",\n",
    "    #\"metric__vnf0.vdu01.0__stat__input__rx_dropped\": \"if_in_rx_dropped\",\n",
    "    #\"metric__vnf0.vdu01.0__stat__input__rx_errors\": \"if_in_rx_errors\",\n",
    "    #\"metric__vnf0.vdu01.0__stat__input__rx_packets\": \"if_in_rx_packets\",\n",
    "    \"metric__vnf0.vdu01.0__stat__input__tx_bytes\": \"if_tx_bytes\",\n",
    "    #\"metric__vnf0.vdu01.0__stat__input__tx_dropped\": \"if_in_tx_dropped\",\n",
    "    #\"metric__vnf0.vdu01.0__stat__input__tx_errors\": \"if_in_tx_errors\",\n",
    "    #\"metric__vnf0.vdu01.0__stat__input__tx_packets\": \"if_in_tx_packets\",\n",
    "}\n",
    "\n",
    "map_iot02 = {\n",
    "    \"param__func__mp.input__cmd_start\": \"req_type\",\n",
    "    \"param__func__de.upb.broker-emqx.0.1__cpu_bw\": \"cpu_bw\",\n",
    "    \"param__func__de.upb.broker-emqx.0.1__mem_max\": \"memory\",\n",
    "    #\"metric__mp.input.vdu01.0__malaria_clientid\": \"mal_id\",\n",
    "    #\"metric__mp.input.vdu01.0__malaria_count_ok\": \"mal_count_ok\",\n",
    "    #\"metric__mp.input.vdu01.0__malaria_count_total\": \"mal_count_total\",\n",
    "    \"metric__mp.input.vdu01.0__malaria_msgs_per_sec\": \"msg_per_sec\",\n",
    "    #\"metric__mp.input.vdu01.0__malaria_rate_ok\": \"mal_rate_ok\",\n",
    "    #\"metric__mp.input.vdu01.0__malaria_time_max\": \"mal_time_max\",\n",
    "    \"metric__mp.input.vdu01.0__malaria_time_mean\": \"msg_t_mean\",\n",
    "    #\"metric__mp.input.vdu01.0__malaria_time_min\": \"mal_time_min\",\n",
    "    \"metric__mp.input.vdu01.0__malaria_time_stddev\": \"msg_t_std\",\n",
    "    #\"metric__mp.input.vdu01.0__malaria_time_total\": \"mal_time_total\",\n",
    "    #\"metric__mp.output.vdu01.0__malaria_client_count\": \"mal_ccount\",\n",
    "    #\"metric__mp.output.vdu01.0__malaria_clientid\": \"mal_cid2\",\n",
    "    #\"metric__mp.output.vdu01.0__malaria_flight_time_max\": \"mal_ft_max\",\n",
    "    #\"metric__mp.output.vdu01.0__malaria_flight_time_mean\": \"mal_ft_mean\",\n",
    "    #\"metric__mp.output.vdu01.0__malaria_flight_time_min\": \"mal_ft_min\",\n",
    "    #\"metric__mp.output.vdu01.0__malaria_flight_time_stddev\": \"mal_ft_stddev\",\n",
    "    #\"metric__mp.output.vdu01.0__malaria_ms_per_msg\": \"mal_ms_per_msg\",\n",
    "    #\"metric__mp.output.vdu01.0__malaria_msg_count\": \"mal_out_msg_count\",\n",
    "    #\"metric__mp.output.vdu01.0__malaria_msg_duplicates\": \"mal_out_msg_dup\",\n",
    "    #\"metric__mp.output.vdu01.0__malaria_msg_per_sec\": \"mal_out_msgs_per_sec\",\n",
    "    #\"metric__mp.output.vdu01.0__malaria_test_complete\": \"mal_test_complete\",\n",
    "    #\"metric__mp.output.vdu01.0__malaria_time_total\": \"mal_out_t_total\",\n",
    "    \"metric__vnf0.vdu01.0__stat__input__rx_bytes\": \"if_rx_bytes\",\n",
    "    #\"metric__vnf0.vdu01.0__stat__input__rx_dropped\": \"if_in_rx_dropped\",\n",
    "    #\"metric__vnf0.vdu01.0__stat__input__rx_errors\": \"if_in_rx_errors\",\n",
    "    #\"metric__vnf0.vdu01.0__stat__input__rx_packets\": \"if_in_rx_packets\",\n",
    "    \"metric__vnf0.vdu01.0__stat__input__tx_bytes\": \"if_tx_bytes\",\n",
    "    #\"metric__vnf0.vdu01.0__stat__input__tx_dropped\": \"if_in_tx_dropped\",\n",
    "    #\"metric__vnf0.vdu01.0__stat__input__tx_errors\": \"if_in_tx_errors\",\n",
    "    #\"metric__vnf0.vdu01.0__stat__input__tx_packets\": \"if_in_tx_packets\",\n",
    "    \n",
    "\n",
    "}\n",
    "\n",
    "# add additional data\n",
    "df_sec01[\"vnf\"] = \"suricata\"\n",
    "df_sec02[\"vnf\"] = \"snort2\"\n",
    "df_sec03[\"vnf\"] = \"snort3\"\n",
    "df_web01[\"vnf\"] = \"nginx\"\n",
    "df_web02[\"vnf\"] = \"haproxy\"\n",
    "df_web03[\"vnf\"] = \"squid\"\n",
    "df_iot01[\"vnf\"] = \"mosquitto\"\n",
    "df_iot02[\"vnf\"] = \"emqx\"\n",
    "\n",
    "\n",
    "# cleanup data sets\n",
    "dfs_raw = [df_sec01, df_sec02, df_sec03, df_web01, df_web02, df_web03, df_iot01, df_iot02]\n",
    "map_list = [map_sec01, map_sec02, map_sec03, map_web01, map_web02, map_web03, map_iot01, map_iot02]\n",
    "dfs = list()  # clean data frames\n",
    "\n",
    "for (df, m) in zip(dfs_raw, map_list):\n",
    "    tmp = select_and_rename(df.copy(), m)\n",
    "    cleanup(tmp)\n",
    "    dfs.append(tmp)\n",
    "\n",
    "dfs[0].head()"
   ]
  },
  {
   "cell_type": "markdown",
   "metadata": {},
   "source": [
    "### Select data"
   ]
  },
  {
   "cell_type": "code",
   "execution_count": 43,
   "metadata": {},
   "outputs": [
    {
     "data": {
      "text/html": [
       "<div>\n",
       "<style scoped>\n",
       "    .dataframe tbody tr th:only-of-type {\n",
       "        vertical-align: middle;\n",
       "    }\n",
       "\n",
       "    .dataframe tbody tr th {\n",
       "        vertical-align: top;\n",
       "    }\n",
       "\n",
       "    .dataframe thead th {\n",
       "        text-align: right;\n",
       "    }\n",
       "</style>\n",
       "<table border=\"1\" class=\"dataframe\">\n",
       "  <thead>\n",
       "    <tr style=\"text-align: right;\">\n",
       "      <th></th>\n",
       "      <th>flow_size</th>\n",
       "      <th>ruleset</th>\n",
       "      <th>cpu_bw</th>\n",
       "      <th>memory</th>\n",
       "      <th>ids_bytes</th>\n",
       "      <th>ids_pkts</th>\n",
       "      <th>ids_drop</th>\n",
       "      <th>if_rx_bytes</th>\n",
       "    </tr>\n",
       "  </thead>\n",
       "  <tbody>\n",
       "    <tr>\n",
       "      <th>800</th>\n",
       "      <td>0</td>\n",
       "      <td>2</td>\n",
       "      <td>0.1</td>\n",
       "      <td>256</td>\n",
       "      <td>9353279.0</td>\n",
       "      <td>16660.0</td>\n",
       "      <td>742389.0</td>\n",
       "      <td>2.390234e+10</td>\n",
       "    </tr>\n",
       "    <tr>\n",
       "      <th>801</th>\n",
       "      <td>0</td>\n",
       "      <td>2</td>\n",
       "      <td>0.1</td>\n",
       "      <td>256</td>\n",
       "      <td>9192369.0</td>\n",
       "      <td>16380.0</td>\n",
       "      <td>744697.0</td>\n",
       "      <td>2.354291e+10</td>\n",
       "    </tr>\n",
       "    <tr>\n",
       "      <th>802</th>\n",
       "      <td>0</td>\n",
       "      <td>2</td>\n",
       "      <td>0.1</td>\n",
       "      <td>256</td>\n",
       "      <td>9910961.0</td>\n",
       "      <td>17139.5</td>\n",
       "      <td>721417.5</td>\n",
       "      <td>2.304450e+10</td>\n",
       "    </tr>\n",
       "    <tr>\n",
       "      <th>803</th>\n",
       "      <td>0</td>\n",
       "      <td>2</td>\n",
       "      <td>0.1</td>\n",
       "      <td>256</td>\n",
       "      <td>9693876.0</td>\n",
       "      <td>17710.0</td>\n",
       "      <td>731222.0</td>\n",
       "      <td>2.367504e+10</td>\n",
       "    </tr>\n",
       "    <tr>\n",
       "      <th>804</th>\n",
       "      <td>0</td>\n",
       "      <td>2</td>\n",
       "      <td>0.1</td>\n",
       "      <td>256</td>\n",
       "      <td>11609510.0</td>\n",
       "      <td>21000.0</td>\n",
       "      <td>725171.0</td>\n",
       "      <td>2.309000e+10</td>\n",
       "    </tr>\n",
       "  </tbody>\n",
       "</table>\n",
       "</div>"
      ],
      "text/plain": [
       "     flow_size  ruleset  cpu_bw  memory   ids_bytes  ids_pkts  ids_drop  \\\n",
       "800          0        2     0.1     256   9353279.0   16660.0  742389.0   \n",
       "801          0        2     0.1     256   9192369.0   16380.0  744697.0   \n",
       "802          0        2     0.1     256   9910961.0   17139.5  721417.5   \n",
       "803          0        2     0.1     256   9693876.0   17710.0  731222.0   \n",
       "804          0        2     0.1     256  11609510.0   21000.0  725171.0   \n",
       "\n",
       "      if_rx_bytes  \n",
       "800  2.390234e+10  \n",
       "801  2.354291e+10  \n",
       "802  2.304450e+10  \n",
       "803  2.367504e+10  \n",
       "804  2.309000e+10  "
      ]
     },
     "execution_count": 43,
     "metadata": {},
     "output_type": "execute_result"
    }
   ],
   "source": [
    "df = dfs[0].copy()\n",
    "df = df[(df[\"flow_size\"]==0) & (df[\"ruleset\"]==2) & (df[\"memory\"]==256)]\n",
    "#df = df.groupby(\"cpu_bw\").mean()\n",
    "df.head()"
   ]
  },
  {
   "cell_type": "markdown",
   "metadata": {},
   "source": [
    "## PWLF Basics"
   ]
  },
  {
   "cell_type": "markdown",
   "metadata": {},
   "source": [
    "### Raw data"
   ]
  },
  {
   "cell_type": "code",
   "execution_count": 44,
   "metadata": {},
   "outputs": [
    {
     "name": "stdout",
     "output_type": "stream",
     "text": [
      "[0.1 0.1 0.1 0.1 0.1 0.1 0.1 0.1 0.1 0.1 0.1 0.1 0.1 0.1 0.1 0.1 0.1 0.1\n",
      " 0.1 0.1 0.2 0.2 0.2 0.2 0.2 0.2 0.2 0.2 0.2 0.2 0.2 0.2 0.2 0.2 0.2 0.2\n",
      " 0.2 0.2 0.2 0.2 0.3 0.3 0.3 0.3 0.3 0.3 0.3 0.3 0.3 0.3 0.3 0.3 0.3 0.3\n",
      " 0.3 0.3 0.3 0.3 0.3 0.3 0.4 0.4 0.4 0.4 0.4 0.4 0.4 0.4 0.4 0.4 0.4 0.4\n",
      " 0.4 0.4 0.4 0.4 0.4 0.4 0.4 0.4 0.5 0.5 0.5 0.5 0.5 0.5 0.5 0.5 0.5 0.5\n",
      " 0.5 0.5 0.5 0.5 0.5 0.5 0.5 0.5 0.5 0.5 0.6 0.6 0.6 0.6 0.6 0.6 0.6 0.6\n",
      " 0.6 0.6 0.6 0.6 0.6 0.6 0.6 0.6 0.6 0.6 0.6 0.6 0.7 0.7 0.7 0.7 0.7 0.7\n",
      " 0.7 0.7 0.7 0.7 0.7 0.7 0.7 0.7 0.7 0.7 0.7 0.7 0.7 0.7 0.8 0.8 0.8 0.8\n",
      " 0.8 0.8 0.8 0.8 0.8 0.8 0.8 0.8 0.8 0.8 0.8 0.8 0.8 0.8 0.8 0.8 0.9 0.9\n",
      " 0.9 0.9 0.9 0.9 0.9 0.9 0.9 0.9 0.9 0.9 0.9 0.9 0.9 0.9 0.9 0.9 0.9 0.9\n",
      " 1.  1.  1.  1.  1.  1.  1.  1.  1.  1.  1.  1.  1.  1.  1.  1.  1.  1.\n",
      " 1.  1. ]\n",
      "[ 16660.   16380.   17139.5  17710.   21000.   17780.   16100.   16240.\n",
      "  16870.   16100.   16240.   16940.   16030.   16100.   18760.   16660.\n",
      "  16520.   16660.   17623.5  16310.   45220.   46340.   45150.   46410.\n",
      "  47740.   48860.   46200.   47880.   48160.   43680.   45360.   45780.\n",
      "  44450.   45150.   44240.   49000.   45920.   49000.   48580.   44100.\n",
      "  75530.   78960.   75880.   77980.   86100.   82740.   74620.   75320.\n",
      "  75040.   79520.   79100.   76720.   76440.   80920.   76090.   77280.\n",
      "  77700.   77560.   78540.   77630.  109340.  108640.  110040.  108500.\n",
      " 113120.  119560.  106540.  111440.  113540.  110460.  108080.  110880.\n",
      " 106400.  108010.  112350.  108920.  109410.  111160.  107870.  109620.\n",
      "  93539.   91538.   98855.   92055.   95666.   97284.5  93472.   95602.5\n",
      "  91722.5  95410.   93319.  101200.5  94822.   93285.   94804.   91769.\n",
      " 101356.5  94222.   93163.   92807.  117259.  114008.  115177.  116340.\n",
      " 119765.  117544.5 116511.  113731.  114491.  117356.  121678.5 113120.\n",
      " 116843.  114384.  115988.  113778.5 115340.  115152.5 121674.  116024.\n",
      " 138240.  136365.5 130114.5 133375.5 140872.5 138202.  138825.  136519.5\n",
      " 136178.  139332.  140023.  133858.  137763.  137773.  138625.  136458.\n",
      " 140343.  152601.  139315.  134120.  162243.  175434.  165238.  159479.\n",
      " 157701.  167046.  158140.  166782.5 165596.  171847.  165256.  161006.5\n",
      " 158345.  164145.5 160338.  160657.5 161364.  167140.  168388.5 167668.\n",
      " 193461.5 192498.  190544.5 179037.  190449.  195198.  193230.  195545.\n",
      " 193961.5 181720.  189346.  175025.  180673.  195755.5 197882.5 195830.\n",
      " 191398.  189840.  194164.5 186747.  218941.  216510.  215071.  218695.5\n",
      " 225427.  203327.  216160.  218162.  215600.  217915.  208740.  220217.\n",
      " 220570.  220565.  212050.5 218928.  209709.  219324.  217140.  220360. ]\n"
     ]
    }
   ],
   "source": [
    "x = np.array(df[\"cpu_bw\"])\n",
    "y = np.array(df[\"ids_pkts\"])\n",
    "\n",
    "print(x)\n",
    "print(y)"
   ]
  },
  {
   "cell_type": "code",
   "execution_count": 45,
   "metadata": {},
   "outputs": [
    {
     "data": {
      "text/plain": [
       "[<matplotlib.lines.Line2D at 0x7f2b1b6087f0>]"
      ]
     },
     "execution_count": 45,
     "metadata": {},
     "output_type": "execute_result"
    },
    {
     "data": {
      "image/png": "[encoded data removed]",
      "text/plain": [
       "<Figure size 432x288 with 1 Axes>"
      ]
     },
     "metadata": {
      "needs_background": "light"
     },
     "output_type": "display_data"
    }
   ],
   "source": [
    "plt.plot(x, y, 'o')"
   ]
  },
  {
   "cell_type": "markdown",
   "metadata": {},
   "source": [
    "### Fit with given breakpoints\n",
    "That does obviously not work well and we cannot know those points in advance."
   ]
  },
  {
   "cell_type": "code",
   "execution_count": 46,
   "metadata": {},
   "outputs": [
    {
     "data": {
      "text/plain": [
       "[<matplotlib.lines.Line2D at 0x7f2b21732320>]"
      ]
     },
     "execution_count": 46,
     "metadata": {},
     "output_type": "execute_result"
    },
    {
     "data": {
      "image/png": "[encoded data removed]",
      "text/plain": [
       "<Figure size 432x288 with 1 Axes>"
      ]
     },
     "metadata": {
      "needs_background": "light"
     },
     "output_type": "display_data"
    }
   ],
   "source": [
    "x0 = np.array([min(x), .2, .7, max(x)])\n",
    "\n",
    "f = pwlf.PiecewiseLinFit(x, y)\n",
    "f.fit_with_breaks(x0)\n",
    "\n",
    "xHat = np.linspace(min(x), max(x), num=10000)\n",
    "yHat = f.predict(xHat)\n",
    "\n",
    "plt.plot(x, y, 'o')\n",
    "plt.plot(xHat, yHat, '-')"
   ]
  },
  {
   "cell_type": "code",
   "execution_count": 47,
   "metadata": {},
   "outputs": [
    {
     "name": "stdout",
     "output_type": "stream",
     "text": [
      "p = [0. 0. 0. 0. 0. 0.]\n",
      "se = [0.     0.0002 0.0001 0.0001 0.0001 0.0001]\n"
     ]
    }
   ],
   "source": [
    "p = f.p_values(method='non-linear', step_size=1e-4)\n",
    "se = f.se\n",
    "print(\"p = {}\".format(np.around(p, decimals=4)))\n",
    "print(\"se = {}\".format(np.around(se, decimals=4)))"
   ]
  },
  {
   "cell_type": "markdown",
   "metadata": {},
   "source": [
    "### Fit with given number of segments\n",
    "\n",
    "This is more promising. We only need an solution to find the optimal number of segments!"
   ]
  },
  {
   "cell_type": "code",
   "execution_count": 48,
   "metadata": {},
   "outputs": [
    {
     "data": {
      "text/plain": [
       "[<matplotlib.lines.Line2D at 0x7f2b2030ebe0>]"
      ]
     },
     "execution_count": 48,
     "metadata": {},
     "output_type": "execute_result"
    },
    {
     "data": {
      "image/png": "[encoded data removed]",
      "text/plain": [
       "<Figure size 432x288 with 1 Axes>"
      ]
     },
     "metadata": {
      "needs_background": "light"
     },
     "output_type": "display_data"
    }
   ],
   "source": [
    "f = pwlf.PiecewiseLinFit(x, y)\n",
    "f.fit(3)\n",
    "\n",
    "xHat = np.linspace(min(x), max(x), num=10000)\n",
    "yHat = f.predict(xHat)\n",
    "\n",
    "plt.plot(x, y, 'o')\n",
    "plt.plot(xHat, yHat, '-')"
   ]
  },
  {
   "cell_type": "code",
   "execution_count": 49,
   "metadata": {},
   "outputs": [
    {
     "name": "stdout",
     "output_type": "stream",
     "text": [
      "p = [0. 0. 0. 0.]\n",
      "se = [  720.6079  3844.2053 15421.7176 13929.0817]\n"
     ]
    }
   ],
   "source": [
    "p = f.p_values(method='linear', step_size=1e-4)\n",
    "se = f.se\n",
    "print(\"p = {}\".format(np.around(p, decimals=4)))\n",
    "print(\"se = {}\".format(np.around(se, decimals=4)))\n"
   ]
  },
  {
   "cell_type": "markdown",
   "metadata": {},
   "source": [
    "## Find optimal number of segments"
   ]
  },
  {
   "cell_type": "code",
   "execution_count": 50,
   "metadata": {},
   "outputs": [],
   "source": [
    "from GPyOpt.methods import BayesianOptimization\n",
    "np.random.seed(12121)\n",
    "\n",
    "def find_opt_nseg(pwlf_obj, max_seg=16, max_iter=30, plot_enabled=True, penalty=0.001):\n",
    "    \"\"\"\n",
    "    Find optimal number of segments.\n",
    "    Based on: https://jekel.me/piecewise_linear_fit_py/examples.html#find-the-best-number-of-line-segments\n",
    "    \"\"\"\n",
    "    \n",
    "    def f_obj(x):\n",
    "        l = y.mean() * penalty  # penalty parameter\n",
    "        f = np.zeros(x.shape[0])\n",
    "        for i, j in enumerate(x):\n",
    "            pwlf_obj.fit(j[0])\n",
    "            f[i] = pwlf_obj.ssr + (l*j[0])\n",
    "        return f\n",
    "    \n",
    "    print(\"Running optimizer ...\")\n",
    "    \n",
    "    # define the lower and upper bound for the number of line segments\n",
    "    bounds = [{'name': 'nseg', 'type': 'discrete',\n",
    "               'domain': np.arange(2, max_seg)}]\n",
    "\n",
    "    bo = BayesianOptimization(f_obj, domain=bounds, model_type='GP',\n",
    "                                  #initial_design_numdata=8,\n",
    "                                  exact_feval=True, verbosity=True,\n",
    "                                  verbosity_model=False)\n",
    "\n",
    "    # perform the bayesian optimization\n",
    "    bo.run_optimization(max_iter=max_iter, verbosity=True)\n",
    "\n",
    "    print('Optimum number of line segments: {}'.format(bo.x_opt))\n",
    "    print('Function value: {}'.format(bo.fx_opt))\n",
    "    if plot_enabled:\n",
    "        bo.plot_acquisition()\n",
    "        bo.plot_convergence()\n",
    "    return bo.x_opt"
   ]
  },
  {
   "cell_type": "code",
   "execution_count": 50,
   "metadata": {},
   "outputs": [
    {
     "name": "stdout",
     "output_type": "stream",
     "text": [
      "Running optimizer ...\n",
      "num acquisition: 1, time elapsed: 3.05s\n",
      "num acquisition: 2, time elapsed: 5.83s\n",
      "Optimum number of line segments: [8.]\n",
      "Function value: 2696404377.3559995\n"
     ]
    },
    {
     "data": {
      "image/png": "[encoded data removed]",
      "text/plain": [
       "<Figure size 432x288 with 1 Axes>"
      ]
     },
     "metadata": {
      "needs_background": "light"
     },
     "output_type": "display_data"
    },
    {
     "data": {
      "image/png": "[encoded data removed]",
      "text/plain": [
       "<Figure size 720x360 with 2 Axes>"
      ]
     },
     "metadata": {
      "needs_background": "light"
     },
     "output_type": "display_data"
    },
    {
     "data": {
      "text/plain": [
       "[<matplotlib.lines.Line2D at 0x7f2b1b7f15f8>]"
      ]
     },
     "execution_count": 50,
     "metadata": {},
     "output_type": "execute_result"
    },
    {
     "data": {
      "image/png": "[encoded data removed]",
      "text/plain": [
       "<Figure size 432x288 with 1 Axes>"
      ]
     },
     "metadata": {
      "needs_background": "light"
     },
     "output_type": "display_data"
    }
   ],
   "source": [
    "# --- Normal fit, calling the optimization\n",
    "f = pwlf.PiecewiseLinFit(x, y)\n",
    "opt_nseg = find_opt_nseg(f)\n",
    "f.fit(opt_nseg)\n",
    "xHat = np.linspace(min(x), max(x), num=10000)\n",
    "yHat = f.predict(xHat)\n",
    "plt.plot(x, y, 'o')\n",
    "plt.plot(xHat, yHat, '-')"
   ]
  },
  {
   "cell_type": "code",
   "execution_count": null,
   "metadata": {},
   "outputs": [],
   "source": []
  }
 ],
 "metadata": {
  "kernelspec": {
   "display_name": "Python 3",
   "language": "python",
   "name": "python3"
  },
  "language_info": {
   "codemirror_mode": {
    "name": "ipython",
    "version": 3
   },
   "file_extension": ".py",
   "mimetype": "text/x-python",
   "name": "python",
   "nbconvert_exporter": "python",
   "pygments_lexer": "ipython3",
   "version": "3.6.9"
  }
 },
 "nbformat": 4,
 "nbformat_minor": 4
}
