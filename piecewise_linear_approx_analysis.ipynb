{
 "cells": [
  {
   "cell_type": "markdown",
   "metadata": {},
   "source": [
    "# Experiment: Piecewise-linear approximation of VNF-PPs\n",
    "\n",
    "Try to represent VNF-PPs as piece-wise linear functions.\n",
    "The fitting is done using the [pwlf Python library](https://pypi.org/project/pwlf/).\n",
    "\n",
    "Cite PWLF:\n",
    "\n",
    "```latex\n",
    "@Manual{pwlf,\n",
    "    author = {Jekel, Charles F. and Venter, Gerhard},\n",
    "    title = {{pwlf:} A Python Library for Fitting 1D Continuous Piecewise Linear Functions},\n",
    "    year = {2019},\n",
    "    url = {https://github.com/cjekel/piecewise_linear_fit_py}\n",
    "}\n",
    "```\n"
   ]
  },
  {
   "cell_type": "code",
   "execution_count": 11,
   "metadata": {},
   "outputs": [],
   "source": [
    "# basics\n",
    "%matplotlib inline\n",
    "import matplotlib.pyplot as plt\n",
    "import pandas as pd\n",
    "import seaborn as sns\n",
    "import matplotlib\n",
    "import numpy as np\n",
    "import pwlf"
   ]
  },
  {
   "cell_type": "markdown",
   "metadata": {},
   "source": [
    "## Data Management\n",
    "Load and clean the data sets to be easily used."
   ]
  },
  {
   "cell_type": "markdown",
   "metadata": {},
   "source": [
    "### Load data sets"
   ]
  },
  {
   "cell_type": "code",
   "execution_count": 12,
   "metadata": {},
   "outputs": [
    {
     "data": {
      "text/html": [
       "<div>\n",
       "<style scoped>\n",
       "    .dataframe tbody tr th:only-of-type {\n",
       "        vertical-align: middle;\n",
       "    }\n",
       "\n",
       "    .dataframe tbody tr th {\n",
       "        vertical-align: top;\n",
       "    }\n",
       "\n",
       "    .dataframe thead th {\n",
       "        text-align: right;\n",
       "    }\n",
       "</style>\n",
       "<table border=\"1\" class=\"dataframe\">\n",
       "  <thead>\n",
       "    <tr style=\"text-align: right;\">\n",
       "      <th></th>\n",
       "      <th>flow_size</th>\n",
       "      <th>ruleset</th>\n",
       "      <th>cpu_bw</th>\n",
       "      <th>memory</th>\n",
       "      <th>ids_bytes</th>\n",
       "      <th>ids_pkts</th>\n",
       "      <th>ids_drop</th>\n",
       "      <th>if_rx_bytes</th>\n",
       "    </tr>\n",
       "  </thead>\n",
       "  <tbody>\n",
       "    <tr>\n",
       "      <th>0</th>\n",
       "      <td>0</td>\n",
       "      <td>1</td>\n",
       "      <td>0.1</td>\n",
       "      <td>256</td>\n",
       "      <td>23300110.0</td>\n",
       "      <td>41300.0</td>\n",
       "      <td>708299.0</td>\n",
       "      <td>2.195881e+10</td>\n",
       "    </tr>\n",
       "    <tr>\n",
       "      <th>1</th>\n",
       "      <td>0</td>\n",
       "      <td>1</td>\n",
       "      <td>0.1</td>\n",
       "      <td>256</td>\n",
       "      <td>27921373.5</td>\n",
       "      <td>47600.0</td>\n",
       "      <td>707497.5</td>\n",
       "      <td>2.193566e+10</td>\n",
       "    </tr>\n",
       "    <tr>\n",
       "      <th>2</th>\n",
       "      <td>0</td>\n",
       "      <td>1</td>\n",
       "      <td>0.1</td>\n",
       "      <td>256</td>\n",
       "      <td>23931763.0</td>\n",
       "      <td>41370.0</td>\n",
       "      <td>712914.0</td>\n",
       "      <td>2.172597e+10</td>\n",
       "    </tr>\n",
       "    <tr>\n",
       "      <th>3</th>\n",
       "      <td>0</td>\n",
       "      <td>1</td>\n",
       "      <td>0.1</td>\n",
       "      <td>256</td>\n",
       "      <td>26639147.0</td>\n",
       "      <td>45220.0</td>\n",
       "      <td>704784.0</td>\n",
       "      <td>2.159297e+10</td>\n",
       "    </tr>\n",
       "    <tr>\n",
       "      <th>4</th>\n",
       "      <td>0</td>\n",
       "      <td>1</td>\n",
       "      <td>0.1</td>\n",
       "      <td>256</td>\n",
       "      <td>23087775.0</td>\n",
       "      <td>40460.0</td>\n",
       "      <td>708648.0</td>\n",
       "      <td>2.155866e+10</td>\n",
       "    </tr>\n",
       "  </tbody>\n",
       "</table>\n",
       "</div>"
      ],
      "text/plain": [
       "   flow_size  ruleset  cpu_bw  memory   ids_bytes  ids_pkts  ids_drop  \\\n",
       "0          0        1     0.1     256  23300110.0   41300.0  708299.0   \n",
       "1          0        1     0.1     256  27921373.5   47600.0  707497.5   \n",
       "2          0        1     0.1     256  23931763.0   41370.0  712914.0   \n",
       "3          0        1     0.1     256  26639147.0   45220.0  704784.0   \n",
       "4          0        1     0.1     256  23087775.0   40460.0  708648.0   \n",
       "\n",
       "    if_rx_bytes  \n",
       "0  2.195881e+10  \n",
       "1  2.193566e+10  \n",
       "2  2.172597e+10  \n",
       "3  2.159297e+10  \n",
       "4  2.155866e+10  "
      ]
     },
     "execution_count": 12,
     "metadata": {},
     "output_type": "execute_result"
    }
   ],
   "source": [
    "def select_and_rename(df, mapping):\n",
    "    \"\"\"\n",
    "    Helper: Selects columns of df using the keys\n",
    "    of the mapping dict.\n",
    "    It renames the columns to the values of the\n",
    "    mappings dict.\n",
    "    \"\"\"\n",
    "    # select subset of columns\n",
    "    dff = df[list(mapping.keys())]\n",
    "    # rename \n",
    "    for k, v in mapping.items():\n",
    "        #print(\"Renaming: {} -> {}\".format(k, v))\n",
    "        dff.rename(columns={k: v}, inplace=True)\n",
    "    #print(dff.head())\n",
    "    return dff\n",
    "\n",
    "def cleanup(df):\n",
    "    \"\"\"\n",
    "    Cleanup of df data.\n",
    "    Dataset specific.\n",
    "    \"\"\"\n",
    "    def _replace(df, column, str1, str2):\n",
    "        if column in df:\n",
    "            df[column] = df[column].str.replace(str1, str2)\n",
    "            \n",
    "    def _to_num(df, column):\n",
    "        if column in df:\n",
    "            df[column] = pd.to_numeric(df[column])\n",
    "        \n",
    "    _replace(df, \"flow_size\", \"tcpreplay -i data -tK --loop 40000 --preload-pcap /pcaps/smallFlows.pcap\", \"0\")   \n",
    "    _replace(df, \"flow_size\", \"tcpreplay -i data -tK --loop 40000 --preload-pcap /pcaps/bigFlows.pcap\", \"1\")\n",
    "    _to_num(df, \"flow_size\")\n",
    "    _replace(df, \"ruleset\", \"./start.sh small_ruleset\", \"1\")\n",
    "    _replace(df, \"ruleset\", \"./start.sh big_ruleset\", \"2\")\n",
    "    _replace(df, \"ruleset\", \"./start.sh\", \"0\")\n",
    "    _to_num(df, \"ruleset\")\n",
    "    _replace(df, \"req_size\", \"ab -c 1 -t 60 -n 99999999 -e /tngbench_share/ab_dist.csv -s 60 -k -i http://20.0.0.254:8888/\", \"0\")\n",
    "    _replace(df, \"req_size\", \"ab -c 1 -t 60 -n 99999999 -e /tngbench_share/ab_dist.csv -s 60 -k http://20.0.0.254:8888/bunny.mp4\", \"1\")\n",
    "    _replace(df, \"req_size\", \"ab -c 1 -t 60 -n 99999999 -e /tngbench_share/ab_dist.csv -s 60 -k -i -X 20.0.0.254:3128 http://40.0.0.254:80/\", \"0\")\n",
    "    _replace(df, \"req_size\", \"ab -c 1 -t 60 -n 99999999 -e /tngbench_share/ab_dist.csv -s 60 -k -X 20.0.0.254:3128 http://40.0.0.254:80/bunny.mp4\", \"1\")\n",
    "    _to_num(df, \"req_size\")\n",
    "    _replace(df, \"req_type\", \"malaria publish -t -n 20000 -H 20.0.0.254 -q 1 --json /tngbench_share/malaria.json\", \"0\")\n",
    "    _replace(df, \"req_type\", \"malaria publish -t -n 20000 -H 20.0.0.254 -q 2 --json /tngbench_share/malaria.json\", \"1\")\n",
    "    _replace(df, \"req_type\", \"malaria publish -s 10 -n 20000 -H 20.0.0.254 --json /tngbench_share/malaria.json\", \"2\")\n",
    "    _replace(df, \"req_type\", \"malaria publish -s 10000 -n 20000 -H 20.0.0.254 --json /tngbench_share/malaria.json\", \"3\")\n",
    "    _to_num(df, \"req_type\")\n",
    "    \n",
    "df_sec01 = pd.read_csv(\"/home/manuel/sndzoo/ds_nfv_sec01/data/csv_experiments.csv\")\n",
    "df_sec02 = pd.read_csv(\"/home/manuel/sndzoo/ds_nfv_sec02/data/csv_experiments.csv\")\n",
    "df_sec03 = pd.read_csv(\"/home/manuel/sndzoo/ds_nfv_sec03/data/csv_experiments.csv\")\n",
    "df_web01 = pd.read_csv(\"/home/manuel/sndzoo/ds_nfv_web01/data/csv_experiments.csv\")\n",
    "df_web02 = pd.read_csv(\"/home/manuel/sndzoo/ds_nfv_web02/data/csv_experiments.csv\")\n",
    "df_web03 = pd.read_csv(\"/home/manuel/sndzoo/ds_nfv_web03/data/csv_experiments.csv\")\n",
    "df_iot01 = pd.read_csv(\"/home/manuel/sndzoo/ds_nfv_iot01/data/csv_experiments.csv\")\n",
    "df_iot02 = pd.read_csv(\"/home/manuel/sndzoo/ds_nfv_iot02/data/csv_experiments.csv\")\n",
    "\n",
    "# do renaming and selection\n",
    "map_sec01 = {\n",
    "    \"param__func__mp.input__cmd_start\": \"flow_size\",\n",
    "    \"param__func__de.upb.ids-suricata.0.1__cmd_start\": \"ruleset\",\n",
    "    \"param__func__de.upb.ids-suricata.0.1__cpu_bw\": \"cpu_bw\",\n",
    "    \"param__func__de.upb.ids-suricata.0.1__mem_max\": \"memory\",\n",
    "    \"metric__vnf0.vdu01.0__suricata_bytes\": \"ids_bytes\",\n",
    "    \"metric__vnf0.vdu01.0__suricata_packets\": \"ids_pkts\",\n",
    "    \"metric__vnf0.vdu01.0__suricata_dropped\": \"ids_drop\",\n",
    "    #\"metric__vnf0.vdu01.0__suricata_drops\": \"ids_drops\",\n",
    "    \"metric__vnf0.vdu01.0__stat__input__rx_bytes\": \"if_rx_bytes\",\n",
    "    #\"metric__vnf0.vdu01.0__stat__input__rx_dropped\": \"if_in_rx_dropped\",\n",
    "    #\"metric__vnf0.vdu01.0__stat__input__rx_errors\": \"if_in_rx_errors\",\n",
    "    #\"metric__vnf0.vdu01.0__stat__input__rx_packets\": \"if_in_rx_packets\",\n",
    "    #\"metric__vnf0.vdu01.0__stat__input__tx_bytes\": \"if_in_tx_byte\",\n",
    "    #\"metric__vnf0.vdu01.0__stat__input__tx_dropped\": \"if_in_tx_dropped\",\n",
    "    #\"metric__vnf0.vdu01.0__stat__input__tx_errors\": \"if_in_tx_errors\",\n",
    "    #\"metric__vnf0.vdu01.0__stat__input__tx_packets\": \"if_in_tx_packets\",\n",
    "}\n",
    "\n",
    "map_sec02 = {\n",
    "    \"param__func__mp.input__cmd_start\": \"flow_size\",\n",
    "    \"param__func__de.upb.ids-snort2.0.1__cmd_start\": \"ruleset\",\n",
    "    \"param__func__de.upb.ids-snort2.0.1__cpu_bw\": \"cpu_bw\",\n",
    "    \"param__func__de.upb.ids-snort2.0.1__mem_max\": \"memory\",\n",
    "    \"metric__vnf0.vdu01.0__snort_bytes\": \"ids_bytes\",\n",
    "    \"metric__vnf0.vdu01.0__snort_packets\": \"ids_pkts\",\n",
    "    \"metric__vnf0.vdu01.0__snort_dropped\": \"ids_drop\",\n",
    "    #\"metric__vnf0.vdu01.0__snort_drops\": \"ids_drops\",\n",
    "    \"metric__vnf0.vdu01.0__stat__input__rx_bytes\": \"if_rx_bytes\",\n",
    "    #\"metric__vnf0.vdu01.0__stat__input__rx_dropped\": \"if_in_rx_dropped\",\n",
    "    #\"metric__vnf0.vdu01.0__stat__input__rx_errors\": \"if_in_rx_errors\",\n",
    "    #\"metric__vnf0.vdu01.0__stat__input__rx_packets\": \"if_in_rx_packets\",\n",
    "    #\"metric__vnf0.vdu01.0__stat__input__tx_bytes\": \"if_in_tx_byte\",\n",
    "    #\"metric__vnf0.vdu01.0__stat__input__tx_dropped\": \"if_in_tx_dropped\",\n",
    "    #\"metric__vnf0.vdu01.0__stat__input__tx_errors\": \"if_in_tx_errors\",\n",
    "    #\"metric__vnf0.vdu01.0__stat__input__tx_packets\": \"if_in_tx_packets\",\n",
    "}\n",
    "\n",
    "map_sec03 = {\n",
    "    \"param__func__mp.input__cmd_start\": \"flow_size\",\n",
    "    \"param__func__de.upb.ids-snort3.0.1__cmd_start\": \"ruleset\",\n",
    "    \"param__func__de.upb.ids-snort3.0.1__cpu_bw\": \"cpu_bw\",\n",
    "    \"param__func__de.upb.ids-snort3.0.1__mem_max\": \"memory\",\n",
    "    #\"metric__vnf0.vdu01.0__snort3_total_allow\": \"ids_allow\",\n",
    "    \"metric__vnf0.vdu01.0__snort3_total_analyzed\": \"ids_pkts\",\n",
    "    \"metric__vnf0.vdu01.0__snort3_total_received\": \"ids_recv\",\n",
    "    #\"metric__vnf0.vdu01.0__snort3_total_outstanding\": \"ids_outstanding\",\n",
    "    \"metric__vnf0.vdu01.0__snort3_total_dropped\": \"ids_drop\",\n",
    "    \"metric__vnf0.vdu01.0__stat__input__rx_bytes\": \"if_rx_bytes\",\n",
    "    #\"metric__vnf0.vdu01.0__stat__input__rx_dropped\": \"if_in_rx_dropped\",\n",
    "    #\"metric__vnf0.vdu01.0__stat__input__rx_errors\": \"if_in_rx_errors\",\n",
    "    #\"metric__vnf0.vdu01.0__stat__input__rx_packets\": \"if_in_rx_packets\",\n",
    "    #\"metric__vnf0.vdu01.0__stat__input__tx_bytes\": \"if_in_tx_byte\",\n",
    "    #\"metric__vnf0.vdu01.0__stat__input__tx_dropped\": \"if_in_tx_dropped\",\n",
    "    #\"metric__vnf0.vdu01.0__stat__input__tx_errors\": \"if_in_tx_errors\",\n",
    "    #\"metric__vnf0.vdu01.0__stat__input__tx_packets\": \"if_in_tx_packets\",\n",
    "}\n",
    "\n",
    "map_web01 = {\n",
    "    \"param__func__mp.input__cmd_start\": \"req_size\",\n",
    "    \"param__func__de.upb.lb-nginx.0.1__cpu_bw\": \"cpu_bw\",\n",
    "    \"param__func__de.upb.lb-nginx.0.1__mem_max\": \"memory\",\n",
    "    \"metric__mp.input.vdu01.0__ab_completed_requests\": \"req_compl\",\n",
    "    #\"metric__mp.input.vdu01.0__ab_concurrent_lvl\": \"req_concurrent\",\n",
    "    #\"metric__mp.input.vdu01.0__ab_failed_requests\": \"req_failed\",\n",
    "    #\"metric__mp.input.vdu01.0__ab_html_transfer_byte\": \"req_html_bytes\",\n",
    "    #\"metric__mp.input.vdu01.0__ab_mean_time_per_request\": \"req_time_mean\",\n",
    "    \"metric__mp.input.vdu01.0__ab_request_per_second\": \"req_per_sec\",\n",
    "    #\"metric__mp.input.vdu01.0__ab_time_used_s\": \"req_time_used\",\n",
    "    \"metric__mp.input.vdu01.0__ab_total_transfer_byte\": \"transf_bytes\",\n",
    "    #\"metric__mp.input.vdu01.0__ab_transfer_rate_kbyte_per_second\": \"req_transf_rate\",\n",
    "    \"metric__vnf0.vdu01.0__stat__input__rx_bytes\": \"if_rx_bytes\",\n",
    "    #\"metric__vnf0.vdu01.0__stat__input__rx_dropped\": \"if_in_rx_dropped\",\n",
    "    #\"metric__vnf0.vdu01.0__stat__input__rx_errors\": \"if_in_rx_errors\",\n",
    "    #\"metric__vnf0.vdu01.0__stat__input__rx_packets\": \"if_in_rx_packets\",\n",
    "    \"metric__vnf0.vdu01.0__stat__input__tx_bytes\": \"if_tx_bytes\",\n",
    "    #\"metric__vnf0.vdu01.0__stat__input__tx_dropped\": \"if_in_tx_dropped\",\n",
    "    #\"metric__vnf0.vdu01.0__stat__input__tx_errors\": \"if_in_tx_errors\",\n",
    "    #\"metric__vnf0.vdu01.0__stat__input__tx_packets\": \"if_in_tx_packets\",\n",
    "}\n",
    "\n",
    "map_web02 = {\n",
    "    \"param__func__mp.input__cmd_start\": \"req_size\",\n",
    "    \"param__func__de.upb.lb-haproxy.0.1__cpu_bw\": \"cpu_bw\",\n",
    "    \"param__func__de.upb.lb-haproxy.0.1__mem_max\": \"memory\",\n",
    "    \"metric__mp.input.vdu01.0__ab_completed_requests\": \"req_compl\",\n",
    "    #\"metric__mp.input.vdu01.0__ab_concurrent_lvl\": \"req_concurrent\",\n",
    "    #\"metric__mp.input.vdu01.0__ab_failed_requests\": \"req_failed\",\n",
    "    #\"metric__mp.input.vdu01.0__ab_html_transfer_byte\": \"req_html_bytes\",\n",
    "    #\"metric__mp.input.vdu01.0__ab_mean_time_per_request\": \"req_time_mean\",\n",
    "    \"metric__mp.input.vdu01.0__ab_request_per_second\": \"req_per_sec\",\n",
    "    #\"metric__mp.input.vdu01.0__ab_time_used_s\": \"req_time_used\",\n",
    "    \"metric__mp.input.vdu01.0__ab_total_transfer_byte\": \"transf_bytes\",\n",
    "    #\"metric__mp.input.vdu01.0__ab_transfer_rate_kbyte_per_second\": \"req_transf_rate\",\n",
    "    \"metric__vnf0.vdu01.0__stat__input__rx_bytes\": \"if_rx_bytes\",\n",
    "    #\"metric__vnf0.vdu01.0__stat__input__rx_dropped\": \"if_in_rx_dropped\",\n",
    "    #\"metric__vnf0.vdu01.0__stat__input__rx_errors\": \"if_in_rx_errors\",\n",
    "    #\"metric__vnf0.vdu01.0__stat__input__rx_packets\": \"if_in_rx_packets\",\n",
    "    \"metric__vnf0.vdu01.0__stat__input__tx_bytes\": \"if_tx_bytes\",\n",
    "    #\"metric__vnf0.vdu01.0__stat__input__tx_dropped\": \"if_in_tx_dropped\",\n",
    "    #\"metric__vnf0.vdu01.0__stat__input__tx_errors\": \"if_in_tx_errors\",\n",
    "    #\"metric__vnf0.vdu01.0__stat__input__tx_packets\": \"if_in_tx_packets\",\n",
    "}\n",
    "\n",
    "map_web03 = {\n",
    "    \"param__func__mp.input__cmd_start\": \"req_size\",\n",
    "    \"param__func__de.upb.px-squid.0.1__cpu_bw\": \"cpu_bw\",\n",
    "    \"param__func__de.upb.px-squid.0.1__mem_max\": \"memory\",\n",
    "    \"metric__mp.input.vdu01.0__ab_completed_requests\": \"req_compl\",\n",
    "    #\"metric__mp.input.vdu01.0__ab_concurrent_lvl\": \"req_concurrent\",\n",
    "    #\"metric__mp.input.vdu01.0__ab_failed_requests\": \"req_failed\",\n",
    "    #\"metric__mp.input.vdu01.0__ab_html_transfer_byte\": \"req_html_bytes\",\n",
    "    #\"metric__mp.input.vdu01.0__ab_mean_time_per_request\": \"req_time_mean\",\n",
    "    \"metric__mp.input.vdu01.0__ab_request_per_second\": \"req_per_sec\",\n",
    "    #\"metric__mp.input.vdu01.0__ab_time_used_s\": \"req_time_used\",\n",
    "    \"metric__mp.input.vdu01.0__ab_total_transfer_byte\": \"transf_bytes\",\n",
    "    #\"metric__mp.input.vdu01.0__ab_transfer_rate_kbyte_per_second\": \"req_transf_rate\",\n",
    "    \"metric__vnf0.vdu01.0__stat__input__rx_bytes\": \"if_rx_bytes\",\n",
    "    #\"metric__vnf0.vdu01.0__stat__input__rx_dropped\": \"if_in_rx_dropped\",\n",
    "    #\"metric__vnf0.vdu01.0__stat__input__rx_errors\": \"if_in_rx_errors\",\n",
    "    #\"metric__vnf0.vdu01.0__stat__input__rx_packets\": \"if_in_rx_packets\",\n",
    "    \"metric__vnf0.vdu01.0__stat__input__tx_bytes\": \"if_tx_bytes\",\n",
    "    #\"metric__vnf0.vdu01.0__stat__input__tx_dropped\": \"if_in_tx_dropped\",\n",
    "    #\"metric__vnf0.vdu01.0__stat__input__tx_errors\": \"if_in_tx_errors\",\n",
    "    #\"metric__vnf0.vdu01.0__stat__input__tx_packets\": \"if_in_tx_packets\",\n",
    "}\n",
    "\n",
    "map_iot01 = {\n",
    "    \"param__func__mp.input__cmd_start\": \"req_type\",\n",
    "    \"param__func__de.upb.broker-mosquitto.0.1__cpu_bw\": \"cpu_bw\",\n",
    "    \"param__func__de.upb.broker-mosquitto.0.1__mem_max\": \"memory\",\n",
    "    #\"metric__mp.input.vdu01.0__malaria_clientid\": \"mal_id\",\n",
    "    #\"metric__mp.input.vdu01.0__malaria_count_ok\": \"mal_count_ok\",\n",
    "    #\"metric__mp.input.vdu01.0__malaria_count_total\": \"mal_count_total\",\n",
    "    \"metric__mp.input.vdu01.0__malaria_msgs_per_sec\": \"msg_per_sec\",\n",
    "    #\"metric__mp.input.vdu01.0__malaria_rate_ok\": \"mal_rate_ok\",\n",
    "    #\"metric__mp.input.vdu01.0__malaria_time_max\": \"mal_time_max\",\n",
    "    \"metric__mp.input.vdu01.0__malaria_time_mean\": \"msg_t_mean\",\n",
    "    #\"metric__mp.input.vdu01.0__malaria_time_min\": \"mal_time_min\",\n",
    "    \"metric__mp.input.vdu01.0__malaria_time_stddev\": \"msg_t_std\",\n",
    "    #\"metric__mp.input.vdu01.0__malaria_time_total\": \"mal_time_total\",\n",
    "    #\"metric__mp.output.vdu01.0__malaria_client_count\": \"mal_ccount\",\n",
    "    #\"metric__mp.output.vdu01.0__malaria_clientid\": \"mal_cid2\",\n",
    "    #\"metric__mp.output.vdu01.0__malaria_flight_time_max\": \"mal_ft_max\",\n",
    "    #\"metric__mp.output.vdu01.0__malaria_flight_time_mean\": \"mal_ft_mean\",\n",
    "    #\"metric__mp.output.vdu01.0__malaria_flight_time_min\": \"mal_ft_min\",\n",
    "    #\"metric__mp.output.vdu01.0__malaria_flight_time_stddev\": \"mal_ft_stddev\",\n",
    "    #\"metric__mp.output.vdu01.0__malaria_ms_per_msg\": \"mal_ms_per_msg\",\n",
    "    #\"metric__mp.output.vdu01.0__malaria_msg_count\": \"mal_out_msg_count\",\n",
    "    #\"metric__mp.output.vdu01.0__malaria_msg_duplicates\": \"mal_out_msg_dup\",\n",
    "    #\"metric__mp.output.vdu01.0__malaria_msg_per_sec\": \"mal_out_msgs_per_sec\",\n",
    "    #\"metric__mp.output.vdu01.0__malaria_test_complete\": \"mal_test_complete\",\n",
    "    #\"metric__mp.output.vdu01.0__malaria_time_total\": \"mal_out_t_total\",\n",
    "    \"metric__vnf0.vdu01.0__stat__input__rx_bytes\": \"if_rx_bytes\",\n",
    "    #\"metric__vnf0.vdu01.0__stat__input__rx_dropped\": \"if_in_rx_dropped\",\n",
    "    #\"metric__vnf0.vdu01.0__stat__input__rx_errors\": \"if_in_rx_errors\",\n",
    "    #\"metric__vnf0.vdu01.0__stat__input__rx_packets\": \"if_in_rx_packets\",\n",
    "    \"metric__vnf0.vdu01.0__stat__input__tx_bytes\": \"if_tx_bytes\",\n",
    "    #\"metric__vnf0.vdu01.0__stat__input__tx_dropped\": \"if_in_tx_dropped\",\n",
    "    #\"metric__vnf0.vdu01.0__stat__input__tx_errors\": \"if_in_tx_errors\",\n",
    "    #\"metric__vnf0.vdu01.0__stat__input__tx_packets\": \"if_in_tx_packets\",\n",
    "}\n",
    "\n",
    "map_iot02 = {\n",
    "    \"param__func__mp.input__cmd_start\": \"req_type\",\n",
    "    \"param__func__de.upb.broker-emqx.0.1__cpu_bw\": \"cpu_bw\",\n",
    "    \"param__func__de.upb.broker-emqx.0.1__mem_max\": \"memory\",\n",
    "    #\"metric__mp.input.vdu01.0__malaria_clientid\": \"mal_id\",\n",
    "    #\"metric__mp.input.vdu01.0__malaria_count_ok\": \"mal_count_ok\",\n",
    "    #\"metric__mp.input.vdu01.0__malaria_count_total\": \"mal_count_total\",\n",
    "    \"metric__mp.input.vdu01.0__malaria_msgs_per_sec\": \"msg_per_sec\",\n",
    "    #\"metric__mp.input.vdu01.0__malaria_rate_ok\": \"mal_rate_ok\",\n",
    "    #\"metric__mp.input.vdu01.0__malaria_time_max\": \"mal_time_max\",\n",
    "    \"metric__mp.input.vdu01.0__malaria_time_mean\": \"msg_t_mean\",\n",
    "    #\"metric__mp.input.vdu01.0__malaria_time_min\": \"mal_time_min\",\n",
    "    \"metric__mp.input.vdu01.0__malaria_time_stddev\": \"msg_t_std\",\n",
    "    #\"metric__mp.input.vdu01.0__malaria_time_total\": \"mal_time_total\",\n",
    "    #\"metric__mp.output.vdu01.0__malaria_client_count\": \"mal_ccount\",\n",
    "    #\"metric__mp.output.vdu01.0__malaria_clientid\": \"mal_cid2\",\n",
    "    #\"metric__mp.output.vdu01.0__malaria_flight_time_max\": \"mal_ft_max\",\n",
    "    #\"metric__mp.output.vdu01.0__malaria_flight_time_mean\": \"mal_ft_mean\",\n",
    "    #\"metric__mp.output.vdu01.0__malaria_flight_time_min\": \"mal_ft_min\",\n",
    "    #\"metric__mp.output.vdu01.0__malaria_flight_time_stddev\": \"mal_ft_stddev\",\n",
    "    #\"metric__mp.output.vdu01.0__malaria_ms_per_msg\": \"mal_ms_per_msg\",\n",
    "    #\"metric__mp.output.vdu01.0__malaria_msg_count\": \"mal_out_msg_count\",\n",
    "    #\"metric__mp.output.vdu01.0__malaria_msg_duplicates\": \"mal_out_msg_dup\",\n",
    "    #\"metric__mp.output.vdu01.0__malaria_msg_per_sec\": \"mal_out_msgs_per_sec\",\n",
    "    #\"metric__mp.output.vdu01.0__malaria_test_complete\": \"mal_test_complete\",\n",
    "    #\"metric__mp.output.vdu01.0__malaria_time_total\": \"mal_out_t_total\",\n",
    "    \"metric__vnf0.vdu01.0__stat__input__rx_bytes\": \"if_rx_bytes\",\n",
    "    #\"metric__vnf0.vdu01.0__stat__input__rx_dropped\": \"if_in_rx_dropped\",\n",
    "    #\"metric__vnf0.vdu01.0__stat__input__rx_errors\": \"if_in_rx_errors\",\n",
    "    #\"metric__vnf0.vdu01.0__stat__input__rx_packets\": \"if_in_rx_packets\",\n",
    "    \"metric__vnf0.vdu01.0__stat__input__tx_bytes\": \"if_tx_bytes\",\n",
    "    #\"metric__vnf0.vdu01.0__stat__input__tx_dropped\": \"if_in_tx_dropped\",\n",
    "    #\"metric__vnf0.vdu01.0__stat__input__tx_errors\": \"if_in_tx_errors\",\n",
    "    #\"metric__vnf0.vdu01.0__stat__input__tx_packets\": \"if_in_tx_packets\",\n",
    "    \n",
    "\n",
    "}\n",
    "\n",
    "# add additional data\n",
    "df_sec01[\"vnf\"] = \"suricata\"\n",
    "df_sec02[\"vnf\"] = \"snort2\"\n",
    "df_sec03[\"vnf\"] = \"snort3\"\n",
    "df_web01[\"vnf\"] = \"nginx\"\n",
    "df_web02[\"vnf\"] = \"haproxy\"\n",
    "df_web03[\"vnf\"] = \"squid\"\n",
    "df_iot01[\"vnf\"] = \"mosquitto\"\n",
    "df_iot02[\"vnf\"] = \"emqx\"\n",
    "\n",
    "\n",
    "# cleanup data sets\n",
    "dfs_raw = [df_sec01, df_sec02, df_sec03, df_web01, df_web02, df_web03, df_iot01, df_iot02]\n",
    "map_list = [map_sec01, map_sec02, map_sec03, map_web01, map_web02, map_web03, map_iot01, map_iot02]\n",
    "dfs = list()  # clean data frames\n",
    "\n",
    "for (df, m) in zip(dfs_raw, map_list):\n",
    "    tmp = select_and_rename(df.copy(), m)\n",
    "    cleanup(tmp)\n",
    "    dfs.append(tmp)\n",
    "\n",
    "dfs[0].head()"
   ]
  },
  {
   "cell_type": "markdown",
   "metadata": {},
   "source": [
    "### Polish data"
   ]
  },
  {
   "cell_type": "code",
   "execution_count": 35,
   "metadata": {},
   "outputs": [
    {
     "data": {
      "text/html": [
       "<div>\n",
       "<style scoped>\n",
       "    .dataframe tbody tr th:only-of-type {\n",
       "        vertical-align: middle;\n",
       "    }\n",
       "\n",
       "    .dataframe tbody tr th {\n",
       "        vertical-align: top;\n",
       "    }\n",
       "\n",
       "    .dataframe thead th {\n",
       "        text-align: right;\n",
       "    }\n",
       "</style>\n",
       "<table border=\"1\" class=\"dataframe\">\n",
       "  <thead>\n",
       "    <tr style=\"text-align: right;\">\n",
       "      <th></th>\n",
       "      <th>flow_size</th>\n",
       "      <th>ruleset</th>\n",
       "      <th>cpu_bw</th>\n",
       "      <th>memory</th>\n",
       "      <th>ids_pkts</th>\n",
       "      <th>ids_recv</th>\n",
       "      <th>ids_drop</th>\n",
       "      <th>if_rx_bytes</th>\n",
       "    </tr>\n",
       "  </thead>\n",
       "  <tbody>\n",
       "  </tbody>\n",
       "</table>\n",
       "</div>"
      ],
      "text/plain": [
       "Empty DataFrame\n",
       "Columns: [flow_size, ruleset, cpu_bw, memory, ids_pkts, ids_recv, ids_drop, if_rx_bytes]\n",
       "Index: []"
      ]
     },
     "execution_count": 35,
     "metadata": {},
     "output_type": "execute_result"
    }
   ],
   "source": [
    "#df = dfs[0].copy()\n",
    "#df = df[(df[\"flow_size\"]==0) & (df[\"ruleset\"]==2) & (df[\"memory\"]==256)]\n",
    "#df = df.groupby(\"cpu_bw\").mean()\n",
    "#df.head()\n",
    "#dfs[1][dfs[1][\"ids_pkts\"].isnull()]"
   ]
  },
  {
   "cell_type": "markdown",
   "metadata": {},
   "source": [
    "## PWLF Prototype\n",
    "\n",
    "More advanced PWLF implementation to be used with generic data sets."
   ]
  },
  {
   "cell_type": "code",
   "execution_count": 124,
   "metadata": {},
   "outputs": [],
   "source": [
    "def fit_pwlf(data, x_col, y_col, nseg=3):\n",
    "    \"\"\"\n",
    "    Inputs:\n",
    "    \n",
    "    Outputs:\n",
    "    \"\"\"\n",
    "    # ensure we work on fresh data\n",
    "    data = data.copy()\n",
    "    # ensure that we drop the NaN from the data\n",
    "    data.dropna(subset=[x_col, y_col], inplace=True)\n",
    "    # get the data\n",
    "    xin = np.array(data[x_col])\n",
    "    yin = np.array(data[y_col])\n",
    "    # fit\n",
    "    f = pwlf.PiecewiseLinFit(xin, yin, degree=1)\n",
    "    f.fit(nseg)\n",
    "    # return\n",
    "    return xin, yin, f\n",
    "\n",
    "\n",
    "def plot_pwlf(data, x_col, y_col, nseg=3):\n",
    "    x, y, f = fit_pwlf(data, x_col, y_col, nseg)\n",
    "    xHat = np.linspace(min(x), max(x), num=10000)\n",
    "    yHat = f.predict(xHat)\n",
    "    plt.plot(x, y, 'o')\n",
    "    plt.plot(xHat, yHat, '-')\n",
    "    plt.show()\n",
    "    plt.close()\n",
    "    return x, y, f\n",
    "\n",
    "    \n",
    "    "
   ]
  },
  {
   "cell_type": "code",
   "execution_count": 126,
   "metadata": {},
   "outputs": [],
   "source": [
    "SEG_MIN = 2\n",
    "SEG_MAX = 4\n",
    "\n",
    "def analyse(data, x_col, y_col):\n",
    "    for nseg in range(SEG_MIN, SEG_MAX+1):\n",
    "        print(\"PWLF fit: nseg={}\".format(nseg))\n",
    "        x, y, f = plot_pwlf(data, x_col, y_col, nseg=nseg)\n",
    "        print(\"error={0:.6f}\".format(np.amax(f.standard_errors())))\n",
    "        print(\"R^2={0:.6f}\".format(np.amax(f.r_squared())))\n",
    "        print(\"---\"*10)"
   ]
  },
  {
   "cell_type": "code",
   "execution_count": 118,
   "metadata": {},
   "outputs": [],
   "source": [
    "def select(data, sel_dict):\n",
    "    \"\"\"\n",
    "    Select subset of data from DF.\n",
    "    \"\"\"\n",
    "    for k, v in sel_dict.items():\n",
    "        data = data[data[k]==v]\n",
    "    return data"
   ]
  },
  {
   "cell_type": "markdown",
   "metadata": {},
   "source": [
    "### Some examples to check data sets"
   ]
  },
  {
   "cell_type": "code",
   "execution_count": 131,
   "metadata": {},
   "outputs": [
    {
     "name": "stdout",
     "output_type": "stream",
     "text": [
      "PWLF fit: nseg=2\n"
     ]
    },
    {
     "data": {
      "image/png": "[encoded data removed]",
      "text/plain": [
       "<Figure size 432x288 with 1 Axes>"
      ]
     },
     "metadata": {
      "needs_background": "light"
     },
     "output_type": "display_data"
    },
    {
     "name": "stdout",
     "output_type": "stream",
     "text": [
      "error=14173.764830\n",
      "R^2=0.966676\n",
      "------------------------------\n",
      "PWLF fit: nseg=3\n"
     ]
    },
    {
     "data": {
      "image/png": "[encoded data removed]",
      "text/plain": [
       "<Figure size 432x288 with 1 Axes>"
      ]
     },
     "metadata": {
      "needs_background": "light"
     },
     "output_type": "display_data"
    },
    {
     "name": "stdout",
     "output_type": "stream",
     "text": [
      "error=11602.668079\n",
      "R^2=0.995858\n",
      "------------------------------\n",
      "PWLF fit: nseg=4\n"
     ]
    },
    {
     "data": {
      "image/png": "[encoded data removed]",
      "text/plain": [
       "<Figure size 432x288 with 1 Axes>"
      ]
     },
     "metadata": {
      "needs_background": "light"
     },
     "output_type": "display_data"
    },
    {
     "name": "stdout",
     "output_type": "stream",
     "text": [
      "error=145790.774024\n",
      "R^2=0.996099\n",
      "------------------------------\n"
     ]
    }
   ],
   "source": [
    "d = select(dfs[0].copy(), {\"flow_size\": 0, \"ruleset\": 2, \"memory\": 256})\n",
    "analyse(d, \"cpu_bw\", \"ids_pkts\")"
   ]
  },
  {
   "cell_type": "code",
   "execution_count": 132,
   "metadata": {},
   "outputs": [
    {
     "name": "stdout",
     "output_type": "stream",
     "text": [
      "PWLF fit: nseg=2\n"
     ]
    },
    {
     "data": {
      "image/png": "[encoded data removed]",
      "text/plain": [
       "<Figure size 432x288 with 1 Axes>"
      ]
     },
     "metadata": {
      "needs_background": "light"
     },
     "output_type": "display_data"
    },
    {
     "name": "stdout",
     "output_type": "stream",
     "text": [
      "error=1532.301059\n",
      "R^2=0.996033\n",
      "------------------------------\n",
      "PWLF fit: nseg=3\n"
     ]
    },
    {
     "data": {
      "image/png": "[encoded data removed]",
      "text/plain": [
       "<Figure size 432x288 with 1 Axes>"
      ]
     },
     "metadata": {
      "needs_background": "light"
     },
     "output_type": "display_data"
    },
    {
     "name": "stdout",
     "output_type": "stream",
     "text": [
      "error=2746.243850\n",
      "R^2=0.996190\n",
      "------------------------------\n",
      "PWLF fit: nseg=4\n"
     ]
    },
    {
     "data": {
      "image/png": "[encoded data removed]",
      "text/plain": [
       "<Figure size 432x288 with 1 Axes>"
      ]
     },
     "metadata": {
      "needs_background": "light"
     },
     "output_type": "display_data"
    },
    {
     "name": "stdout",
     "output_type": "stream",
     "text": [
      "error=14132.042461\n",
      "R^2=0.996336\n",
      "------------------------------\n"
     ]
    }
   ],
   "source": [
    "d = select(dfs[1].copy(), {\"flow_size\": 0, \"ruleset\": 2, \"memory\": 256})\n",
    "analyse(d, \"cpu_bw\", \"ids_pkts\")"
   ]
  },
  {
   "cell_type": "code",
   "execution_count": 133,
   "metadata": {},
   "outputs": [
    {
     "name": "stdout",
     "output_type": "stream",
     "text": [
      "PWLF fit: nseg=2\n"
     ]
    },
    {
     "data": {
      "image/png": "[encoded data removed]",
      "text/plain": [
       "<Figure size 432x288 with 1 Axes>"
      ]
     },
     "metadata": {
      "needs_background": "light"
     },
     "output_type": "display_data"
    },
    {
     "name": "stdout",
     "output_type": "stream",
     "text": [
      "error=247981.036595\n",
      "R^2=0.999688\n",
      "------------------------------\n",
      "PWLF fit: nseg=3\n"
     ]
    },
    {
     "data": {
      "image/png": "[encoded data removed]",
      "text/plain": [
       "<Figure size 432x288 with 1 Axes>"
      ]
     },
     "metadata": {
      "needs_background": "light"
     },
     "output_type": "display_data"
    },
    {
     "name": "stdout",
     "output_type": "stream",
     "text": [
      "error=470642.227227\n",
      "R^2=0.999717\n",
      "------------------------------\n",
      "PWLF fit: nseg=4\n"
     ]
    },
    {
     "data": {
      "image/png": "[encoded data removed]",
      "text/plain": [
       "<Figure size 432x288 with 1 Axes>"
      ]
     },
     "metadata": {
      "needs_background": "light"
     },
     "output_type": "display_data"
    },
    {
     "name": "stdout",
     "output_type": "stream",
     "text": [
      "error=2287679.292109\n",
      "R^2=0.999726\n",
      "------------------------------\n"
     ]
    }
   ],
   "source": [
    "d = select(dfs[2].copy(), {\"flow_size\": 0, \"ruleset\": 0, \"memory\": 256})\n",
    "analyse(d, \"cpu_bw\", \"ids_pkts\")"
   ]
  },
  {
   "cell_type": "code",
   "execution_count": null,
   "metadata": {},
   "outputs": [],
   "source": []
  }
 ],
 "metadata": {
  "kernelspec": {
   "display_name": "Python 3",
   "language": "python",
   "name": "python3"
  },
  "language_info": {
   "codemirror_mode": {
    "name": "ipython",
    "version": 3
   },
   "file_extension": ".py",
   "mimetype": "text/x-python",
   "name": "python",
   "nbconvert_exporter": "python",
   "pygments_lexer": "ipython3",
   "version": "3.6.9"
  }
 },
 "nbformat": 4,
 "nbformat_minor": 4
}
